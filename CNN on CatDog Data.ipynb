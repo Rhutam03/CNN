{
 "cells": [
  {
   "cell_type": "code",
   "execution_count": null,
   "id": "b8523bfb",
   "metadata": {},
   "outputs": [],
   "source": [
    "import os\n",
    "import cv2\n",
    "import matplotlib.pyplot as plt\n",
    "import numpy as np\n",
    "import random"
   ]
  },
  {
   "cell_type": "code",
   "execution_count": null,
   "id": "7600ea0c",
   "metadata": {},
   "outputs": [],
   "source": [
    "path = r'C:\\Users\\rhuta\\Downloads\\PetImages' #Name of the main folder\n",
    "cate = [\"Dog\",\"Cat\"]                     #Images are stored in this sub folder\n",
    "\n",
    "#Here we are directly reading the raw images\n",
    "# We are giving the path where images are stored."
   ]
  },
  {
   "cell_type": "code",
   "execution_count": null,
   "id": "7c11216e",
   "metadata": {},
   "outputs": [],
   "source": [
    "for i in cate:\n",
    "    folders = os.path.join(path,i)\n",
    "    print(folders)\n",
    "#Here we are joing two paths so that it will be easy for us to read the images.\n",
    "# We have just entered into the folder bt we are not reading images."
   ]
  },
  {
   "cell_type": "code",
   "execution_count": null,
   "id": "fb92483c",
   "metadata": {},
   "outputs": [],
   "source": [
    "for i in cate:\n",
    "    folders = os.path.join(path,i)           # Giving path of folder where images are saved\n",
    "    for image in os.listdir(folders):\n",
    "        image_path = os.path.join(folders , image)\n",
    "        print(image_path)                   # We are able to access the image"
   ]
  },
  {
   "cell_type": "code",
   "execution_count": null,
   "id": "7ee76e15",
   "metadata": {},
   "outputs": [],
   "source": [
    "for i in cate:\n",
    "    folders = os.path.join(path,i)           # Giving path of folder where images are saved\n",
    "    for image in os.listdir(folders):\n",
    "        image_path = os.path.join(folders , image)\n",
    "        image_array = cv2.imread(image_path)\n",
    "        plt.imshow(image_array)\n",
    "        break"
   ]
  },
  {
   "cell_type": "code",
   "execution_count": null,
   "id": "04fad6a9",
   "metadata": {},
   "outputs": [],
   "source": [
    "image_size = 200\n",
    "input_image = []\n",
    "for i in cate:\n",
    "    folders = os.path.join(path, i)\n",
    "    label = cate.index(i)  # Label images: 0 for cat, 1 for dog, etc.\n",
    "    print('Value of label is', label)\n",
    "    \n",
    "    for image in os.listdir(folders):\n",
    "        image_path = os.path.join(folders, image)\n",
    "        image_array = cv2.imread(image_path)\n",
    "        image_array = cv2.resize(image_array, (image_size, image_size))\n",
    "        # Append the resized image and its label to input_image\n",
    "        input_image.append([image_array, label]) #We are attaching the target variable\n"
   ]
  },
  {
   "cell_type": "code",
   "execution_count": null,
   "id": "3eea71e3",
   "metadata": {},
   "outputs": [],
   "source": [
    "len(input_image)"
   ]
  },
  {
   "cell_type": "code",
   "execution_count": null,
   "id": "af83f482",
   "metadata": {},
   "outputs": [],
   "source": [
    "np.random.shuffle(input_image)"
   ]
  },
  {
   "cell_type": "code",
   "execution_count": null,
   "id": "6532a78f",
   "metadata": {},
   "outputs": [],
   "source": [
    "#Till this point X and Y are together now let's seperate them\n",
    "\n",
    "X = []\n",
    "Y = []\n",
    "for X_values , labels in input_image:\n",
    "    X.append(X_values)\n",
    "    Y.append(labels)"
   ]
  },
  {
   "cell_type": "code",
   "execution_count": null,
   "id": "9166141c",
   "metadata": {},
   "outputs": [],
   "source": [
    "X = np.array(X)\n",
    "Y = np.array(Y)"
   ]
  },
  {
   "cell_type": "code",
   "execution_count": null,
   "id": "1229a686",
   "metadata": {},
   "outputs": [],
   "source": [
    "X.shape"
   ]
  },
  {
   "cell_type": "code",
   "execution_count": null,
   "id": "53ce0d83",
   "metadata": {},
   "outputs": [],
   "source": [
    "Y"
   ]
  },
  {
   "cell_type": "code",
   "execution_count": null,
   "id": "2c7a758c",
   "metadata": {},
   "outputs": [],
   "source": [
    "plt.imshow(X[2])"
   ]
  },
  {
   "cell_type": "code",
   "execution_count": null,
   "id": "99705975",
   "metadata": {},
   "outputs": [],
   "source": [
    "# Designing the Convolutional Neural Network"
   ]
  },
  {
   "cell_type": "code",
   "execution_count": null,
   "id": "854a82b1",
   "metadata": {},
   "outputs": [],
   "source": [
    "from keras.models import Sequential   # To initialize your Neural Network\n",
    "from keras.layers import Conv2D,MaxPool2D,Flatten,Dense,Dropout"
   ]
  },
  {
   "cell_type": "code",
   "execution_count": null,
   "id": "ebe05906",
   "metadata": {},
   "outputs": [],
   "source": [
    "model=Sequential()\n",
    "model.add(Conv2D(filters=10,kernel_size=(5,5),activation=\"relu\",padding=\"same\",input_shape=(200,200,3)))\n",
    "model.add(MaxPool2D(pool_size=(2,2)))\n",
    "model.add(Flatten())\n",
    "model.add(Dense(128,activation=\"relu\"))\n",
    "model.add(Dense(2,activation=\"softmax\"))"
   ]
  },
  {
   "cell_type": "code",
   "execution_count": null,
   "id": "8383b521",
   "metadata": {},
   "outputs": [],
   "source": [
    "model.compile(optimizer=\"adam\",loss=\"sparse_categorical_crossentropy\",metrics=[\"accuracy\"])"
   ]
  },
  {
   "cell_type": "code",
   "execution_count": null,
   "id": "8ab93353",
   "metadata": {},
   "outputs": [],
   "source": [
    "model.fit(X,Y,epochs=20,batch_size=400)"
   ]
  },
  {
   "cell_type": "code",
   "execution_count": null,
   "id": "6451a24e",
   "metadata": {},
   "outputs": [],
   "source": [
    "pred=model.predict(X)\n",
    "pred"
   ]
  },
  {
   "cell_type": "code",
   "execution_count": null,
   "id": "76e23557",
   "metadata": {},
   "outputs": [],
   "source": [
    "pred_values=np.argmax(pred,axis=1)\n",
    "pred_values"
   ]
  },
  {
   "cell_type": "code",
   "execution_count": null,
   "id": "57faa34b",
   "metadata": {},
   "outputs": [],
   "source": [
    "from sklearn.metrics import confusion_matrix\n",
    "confusion_matrix(Y,pred_values)"
   ]
  },
  {
   "cell_type": "code",
   "execution_count": null,
   "id": "6fdcac2a",
   "metadata": {},
   "outputs": [],
   "source": [
    "from sklearn.metrics import accuracy_score\n",
    "accuracy_score(Y,pred_values)"
   ]
  },
  {
   "cell_type": "code",
   "execution_count": null,
   "id": "5ad76348",
   "metadata": {},
   "outputs": [],
   "source": [
    "l=random.randint(0,len(Y))\n",
    "plt.imshow(X[l,:])\n",
    "plt.show\n",
    "Y_pred=model.predict(X[l,:].reshape(1,200,200,3))\n",
    "Y_pred=Y_pred>0.5  # Class1\n",
    "if Y_pred[0][0]==True and Y_pred[0][1]==False:\n",
    "    print(\"Our Model says it is a Cat\")\n",
    "else:\n",
    "    print(\"Our Model says it is a Dog\")"
   ]
  },
  {
   "cell_type": "code",
   "execution_count": null,
   "id": "80dc2c91",
   "metadata": {},
   "outputs": [],
   "source": []
  }
 ],
 "metadata": {
  "kernelspec": {
   "display_name": "Python 3 (ipykernel)",
   "language": "python",
   "name": "python3"
  },
  "language_info": {
   "codemirror_mode": {
    "name": "ipython",
    "version": 3
   },
   "file_extension": ".py",
   "mimetype": "text/x-python",
   "name": "python",
   "nbconvert_exporter": "python",
   "pygments_lexer": "ipython3",
   "version": "3.9.12"
  }
 },
 "nbformat": 4,
 "nbformat_minor": 5
}
